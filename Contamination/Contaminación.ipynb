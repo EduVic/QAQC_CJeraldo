{
 "cells": [
  {
   "cell_type": "markdown",
   "id": "d8ab5c89",
   "metadata": {},
   "source": [
    "# Descripción del proyecto\n",
    "\n",
    "**Autor:** Cristian Jeraldo, www.asgeominspa.com\n",
    "\n",
    "**Fecha:** 13 de junio de 2024\n",
    "\n",
    "**Descripción:** Este notebook contiene los pasos necesarios para desarrollar un análisis de contaminación, incluyendo la visualización de resultados y la aplicación de técnicas estadísticas de medición."
   ]
  },
  {
   "cell_type": "markdown",
   "id": "e9b1023f",
   "metadata": {},
   "source": [
    "# Importación de librerías"
   ]
  },
  {
   "cell_type": "code",
   "execution_count": 1,
   "id": "35e2423d",
   "metadata": {},
   "outputs": [
    {
     "name": "stderr",
     "output_type": "stream",
     "text": [
      "C:\\Users\\Asus\\AppData\\Local\\Programs\\Python\\Python311\\Lib\\site-packages\\scipy\\__init__.py:169: UserWarning: A NumPy version >=1.18.5 and <1.26.0 is required for this version of SciPy (detected version 1.26.4\n",
      "  warnings.warn(f\"A NumPy version >={np_minversion} and <{np_maxversion}\"\n"
     ]
    }
   ],
   "source": [
    "# Librerías visualización\n",
    "import matplotlib.pyplot as plt\n",
    "import seaborn as sns\n",
    "\n",
    "# Librerías manipulación de datos\n",
    "import numpy as np\n",
    "import pandas as pd"
   ]
  },
  {
   "cell_type": "markdown",
   "id": "201a928a",
   "metadata": {},
   "source": [
    "# Importación de datos"
   ]
  },
  {
   "cell_type": "code",
   "execution_count": 2,
   "id": "58ce47f9",
   "metadata": {},
   "outputs": [],
   "source": [
    "# Importación de datos\n",
    "df = pd.read_csv('contaminación_Cu.csv')"
   ]
  },
  {
   "cell_type": "code",
   "execution_count": 3,
   "id": "b75cbcf7",
   "metadata": {},
   "outputs": [
    {
     "data": {
      "text/html": [
       "<div>\n",
       "<style scoped>\n",
       "    .dataframe tbody tr th:only-of-type {\n",
       "        vertical-align: middle;\n",
       "    }\n",
       "\n",
       "    .dataframe tbody tr th {\n",
       "        vertical-align: top;\n",
       "    }\n",
       "\n",
       "    .dataframe thead th {\n",
       "        text-align: right;\n",
       "    }\n",
       "</style>\n",
       "<table border=\"1\" class=\"dataframe\">\n",
       "  <thead>\n",
       "    <tr style=\"text-align: right;\">\n",
       "      <th></th>\n",
       "      <th>SAMPLE_ID</th>\n",
       "      <th>Inserto</th>\n",
       "      <th>Cu</th>\n",
       "      <th>Origen</th>\n",
       "    </tr>\n",
       "  </thead>\n",
       "  <tbody>\n",
       "    <tr>\n",
       "      <th>0</th>\n",
       "      <td>STD HIGH 1</td>\n",
       "      <td>1</td>\n",
       "      <td>0.02</td>\n",
       "      <td>P2022-111 Análisis Estandares MSDv3.xlsx</td>\n",
       "    </tr>\n",
       "    <tr>\n",
       "      <th>1</th>\n",
       "      <td>STD HIGH 2</td>\n",
       "      <td>2</td>\n",
       "      <td>0.01</td>\n",
       "      <td>P2022-111 Análisis Estandares MSDv3.xlsx</td>\n",
       "    </tr>\n",
       "    <tr>\n",
       "      <th>2</th>\n",
       "      <td>STD HIGH 3</td>\n",
       "      <td>3</td>\n",
       "      <td>0.02</td>\n",
       "      <td>P2022-111 Análisis Estandares MSDv3.xlsx</td>\n",
       "    </tr>\n",
       "  </tbody>\n",
       "</table>\n",
       "</div>"
      ],
      "text/plain": [
       "    SAMPLE_ID  Inserto    Cu                                    Origen\n",
       "0  STD HIGH 1        1  0.02  P2022-111 Análisis Estandares MSDv3.xlsx\n",
       "1  STD HIGH 2        2  0.01  P2022-111 Análisis Estandares MSDv3.xlsx\n",
       "2  STD HIGH 3        3  0.02  P2022-111 Análisis Estandares MSDv3.xlsx"
      ]
     },
     "execution_count": 3,
     "metadata": {},
     "output_type": "execute_result"
    }
   ],
   "source": [
    "df.head(3)"
   ]
  },
  {
   "cell_type": "code",
   "execution_count": 4,
   "id": "b0d16fc3",
   "metadata": {},
   "outputs": [
    {
     "data": {
      "text/plain": [
       "(30, 4)"
      ]
     },
     "execution_count": 4,
     "metadata": {},
     "output_type": "execute_result"
    }
   ],
   "source": [
    "df.shape"
   ]
  },
  {
   "cell_type": "markdown",
   "id": "dfcb7498",
   "metadata": {},
   "source": [
    "# Gráfico de Contaminación"
   ]
  },
  {
   "cell_type": "code",
   "execution_count": 5,
   "id": "b363af40",
   "metadata": {},
   "outputs": [],
   "source": [
    "# Ejes para gráfico de control de contaminación\n",
    "x = df['Inserto']\n",
    "y = df['Cu']"
   ]
  },
  {
   "cell_type": "code",
   "execution_count": 6,
   "id": "c658eed2",
   "metadata": {},
   "outputs": [],
   "source": [
    "# Editar tipo de control, analito y laboratorio \n",
    "control = 'blanco fino' # analítico o de preparación mecánica\n",
    "analito = 'Cu (%)'\n",
    "lab = 'Bureau Veritas Antofagasta, Chile'"
   ]
  },
  {
   "cell_type": "code",
   "execution_count": 7,
   "id": "595d5eba",
   "metadata": {},
   "outputs": [],
   "source": [
    "# Límite de aceptación\n",
    "limit = 0.1"
   ]
  },
  {
   "cell_type": "code",
   "execution_count": 8,
   "id": "d7431c44",
   "metadata": {},
   "outputs": [
    {
     "data": {
      "image/png": "[encoded data removed]",
      "text/plain": [
       "<Figure size 640x480 with 1 Axes>"
      ]
     },
     "metadata": {},
     "output_type": "display_data"
    }
   ],
   "source": [
    "# Gráfico de control de contaminación\n",
    "fig,ax = plt.subplots()\n",
    "\n",
    "ax.set_title(\"Evolución contaminación de {} para {}, laboratorio {}\".format(control,analito,lab))\n",
    "\n",
    "# lineplot de insertos \n",
    "ax.plot(y, color='grey', linewidth=1)\n",
    "\n",
    "# lineplot edgecolors para errores\n",
    "for i in range(1,len(y)):\n",
    "    if y[i] > limit:\n",
    "        ax.scatter(x[i-1],y[i], edgecolors='red', color='white')\n",
    "    else:\n",
    "        ax.scatter(x[i-1],y[i], color='white')       \n",
    "    \n",
    "# Líneas de control    \n",
    "ax.hlines(y=limit, xmin=1, xmax=len(df), linewidth=1, color='red', linestyles='--', label='Tolerancia máxima')\n",
    "plt.legend()\n",
    "\n",
    "# Editar rango eje Y (ley) y frecuencia de tick marks\n",
    "plt.ylim([0.0,0.15])\n",
    "plt.yticks(np.arange(0.0,0.15,0.025))\n",
    "\n",
    "# Identificar círculos con color rojo\n",
    "colors = np.where(y > limit, 'r', 'w')\n",
    "\n",
    "# Contar los puntos sobre Límite de aceptación (puntos rojos)\n",
    "num_puntos_sobre_limit = np.sum(colors == 'r')\n",
    "\n",
    "# Ploteo de grilla\n",
    "plt.grid()\n",
    "\n",
    "# Títulos de ejes\n",
    "plt.xlabel('Inserto')\n",
    "plt.ylabel(analito);"
   ]
  },
  {
   "cell_type": "markdown",
   "id": "cba6a973",
   "metadata": {},
   "source": [
    "**Comentarios:**\n",
    "- No se identifican resultados con fallas para BP (blanco pulpa): sin contaminación       "
   ]
  },
  {
   "cell_type": "markdown",
   "id": "12071eb6",
   "metadata": {},
   "source": [
    "# Cálculo porcentaje controles sobre Límite de Especificación"
   ]
  },
  {
   "cell_type": "code",
   "execution_count": 9,
   "id": "6ecaf36f",
   "metadata": {},
   "outputs": [],
   "source": [
    "# Porcentaje de fallos\n",
    "fallos = num_puntos_sobre_limit / len(x) * 100"
   ]
  },
  {
   "cell_type": "code",
   "execution_count": 10,
   "id": "79bac7fd",
   "metadata": {},
   "outputs": [
    {
     "name": "stdout",
     "output_type": "stream",
     "text": [
      "El porcentaje de fallos de blanco fino para Cu (%) en laboratorio Bureau Veritas Antofagasta, Chile es 6.67\n"
     ]
    }
   ],
   "source": [
    "print(\"El porcentaje de fallos de {} para {} en laboratorio {} es {:.2f}\".format(control,analito,lab,fallos))"
   ]
  },
  {
   "cell_type": "markdown",
   "id": "b5fb215f",
   "metadata": {},
   "source": [
    "**Conclusión:**\n",
    "- Porcentaje de muestras sobre límite de especificación cuestionable, tomando como base 5% de aceptación."
   ]
  }
 ],
 "metadata": {
  "kernelspec": {
   "display_name": "Python 3 (ipykernel)",
   "language": "python",
   "name": "python3"
  },
  "language_info": {
   "codemirror_mode": {
    "name": "ipython",
    "version": 3
   },
   "file_extension": ".py",
   "mimetype": "text/x-python",
   "name": "python",
   "nbconvert_exporter": "python",
   "pygments_lexer": "ipython3",
   "version": "3.11.1"
  },
  "toc": {
   "base_numbering": 1,
   "nav_menu": {},
   "number_sections": true,
   "sideBar": true,
   "skip_h1_title": false,
   "title_cell": "Table of Contents",
   "title_sidebar": "Contents",
   "toc_cell": false,
   "toc_position": {},
   "toc_section_display": true,
   "toc_window_display": false
  }
 },
 "nbformat": 4,
 "nbformat_minor": 5
}
