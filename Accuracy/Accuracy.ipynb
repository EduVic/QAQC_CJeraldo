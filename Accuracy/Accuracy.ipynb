{
 "cells": [
  {
   "cell_type": "markdown",
   "id": "ee5fe4fa",
   "metadata": {},
   "source": [
    "# Project description\n",
    "\n",
    "**Author:** Cristian Jeraldo, www.asgeominspa.com\n",
    "\n",
    "**Date:** June 13, 2024\n",
    "\n",
    "**Description:** This notebook contains the necessary steps to develop an analytical accuracy analysis, including the visualization of results and the application of statistical measurement techniques.\n",
    "\n",
    "---"
   ]
  },
  {
   "cell_type": "markdown",
   "id": "e9b1023f",
   "metadata": {},
   "source": [
    "# Importing libreries"
   ]
  },
  {
   "cell_type": "code",
   "execution_count": 1,
   "id": "35e2423d",
   "metadata": {},
   "outputs": [
    {
     "name": "stderr",
     "output_type": "stream",
     "text": [
      "C:\\Users\\Asus\\AppData\\Local\\Programs\\Python\\Python311\\Lib\\site-packages\\scipy\\__init__.py:169: UserWarning: A NumPy version >=1.18.5 and <1.26.0 is required for this version of SciPy (detected version 1.26.4\n",
      "  warnings.warn(f\"A NumPy version >={np_minversion} and <{np_maxversion}\"\n"
     ]
    }
   ],
   "source": [
    "# Data visualization\n",
    "import matplotlib.pyplot as plt\n",
    "import seaborn as sns\n",
    "\n",
    "# Data manipulation\n",
    "import numpy as np\n",
    "import pandas as pd"
   ]
  },
  {
   "cell_type": "markdown",
   "id": "201a928a",
   "metadata": {},
   "source": [
    "# Importing data"
   ]
  },
  {
   "cell_type": "code",
   "execution_count": 2,
   "id": "58ce47f9",
   "metadata": {},
   "outputs": [],
   "source": [
    "# Importing data\n",
    "df = pd.read_csv('MSD-ALTO_AAA_Cu_Fe_Au_Co_S.csv')"
   ]
  },
  {
   "cell_type": "code",
   "execution_count": 3,
   "id": "b75cbcf7",
   "metadata": {},
   "outputs": [
    {
     "data": {
      "text/html": [
       "<div>\n",
       "<style scoped>\n",
       "    .dataframe tbody tr th:only-of-type {\n",
       "        vertical-align: middle;\n",
       "    }\n",
       "\n",
       "    .dataframe tbody tr th {\n",
       "        vertical-align: top;\n",
       "    }\n",
       "\n",
       "    .dataframe thead th {\n",
       "        text-align: right;\n",
       "    }\n",
       "</style>\n",
       "<table border=\"1\" class=\"dataframe\">\n",
       "  <thead>\n",
       "    <tr style=\"text-align: right;\">\n",
       "      <th></th>\n",
       "      <th>SAMPLE_ID</th>\n",
       "      <th>Inserto</th>\n",
       "      <th>Cu</th>\n",
       "      <th>Fe</th>\n",
       "      <th>Au</th>\n",
       "      <th>Co</th>\n",
       "      <th>S</th>\n",
       "      <th>Origen</th>\n",
       "    </tr>\n",
       "  </thead>\n",
       "  <tbody>\n",
       "    <tr>\n",
       "      <th>0</th>\n",
       "      <td>STD HIGH 1</td>\n",
       "      <td>1</td>\n",
       "      <td>1.662</td>\n",
       "      <td>50.31</td>\n",
       "      <td>0.295</td>\n",
       "      <td>370</td>\n",
       "      <td>1.78</td>\n",
       "      <td>P2022-111 Análisis Estandares MSDv3.xlsx</td>\n",
       "    </tr>\n",
       "    <tr>\n",
       "      <th>1</th>\n",
       "      <td>STD HIGH 2</td>\n",
       "      <td>2</td>\n",
       "      <td>1.682</td>\n",
       "      <td>49.97</td>\n",
       "      <td>0.271</td>\n",
       "      <td>360</td>\n",
       "      <td>1.78</td>\n",
       "      <td>P2022-111 Análisis Estandares MSDv3.xlsx</td>\n",
       "    </tr>\n",
       "    <tr>\n",
       "      <th>2</th>\n",
       "      <td>STD HIGH 3</td>\n",
       "      <td>3</td>\n",
       "      <td>1.665</td>\n",
       "      <td>48.97</td>\n",
       "      <td>0.346</td>\n",
       "      <td>370</td>\n",
       "      <td>1.79</td>\n",
       "      <td>P2022-111 Análisis Estandares MSDv3.xlsx</td>\n",
       "    </tr>\n",
       "  </tbody>\n",
       "</table>\n",
       "</div>"
      ],
      "text/plain": [
       "    SAMPLE_ID  Inserto     Cu     Fe     Au   Co     S  \\\n",
       "0  STD HIGH 1        1  1.662  50.31  0.295  370  1.78   \n",
       "1  STD HIGH 2        2  1.682  49.97  0.271  360  1.78   \n",
       "2  STD HIGH 3        3  1.665  48.97  0.346  370  1.79   \n",
       "\n",
       "                                     Origen  \n",
       "0  P2022-111 Análisis Estandares MSDv3.xlsx  \n",
       "1  P2022-111 Análisis Estandares MSDv3.xlsx  \n",
       "2  P2022-111 Análisis Estandares MSDv3.xlsx  "
      ]
     },
     "execution_count": 3,
     "metadata": {},
     "output_type": "execute_result"
    }
   ],
   "source": [
    "df.head(3)"
   ]
  },
  {
   "cell_type": "code",
   "execution_count": 4,
   "id": "b0d16fc3",
   "metadata": {},
   "outputs": [
    {
     "data": {
      "text/plain": [
       "(30, 8)"
      ]
     },
     "execution_count": 4,
     "metadata": {},
     "output_type": "execute_result"
    }
   ],
   "source": [
    "df.shape"
   ]
  },
  {
   "cell_type": "markdown",
   "id": "dfcb7498",
   "metadata": {},
   "source": [
    "# Accuracy plot"
   ]
  },
  {
   "cell_type": "code",
   "execution_count": 5,
   "id": "b363af40",
   "metadata": {},
   "outputs": [],
   "source": [
    "# Axis setting\n",
    "x = df['Inserto']\n",
    "y = df['Au']"
   ]
  },
  {
   "cell_type": "code",
   "execution_count": 14,
   "id": "c658eed2",
   "metadata": {},
   "outputs": [],
   "source": [
    "# Edit analyte, laboratory and Certified Reference Material (CRM) \n",
    "analyte = 'Au'\n",
    "lab = 'Bureau Veritas Antofagasta, Chile'\n",
    "crm = 'MSD-ALTO_AAA'"
   ]
  },
  {
   "cell_type": "code",
   "execution_count": 7,
   "id": "595d5eba",
   "metadata": {},
   "outputs": [],
   "source": [
    "# CRM average and standard deviation \n",
    "av = 0.299\n",
    "desvest = 0.02213"
   ]
  },
  {
   "cell_type": "code",
   "execution_count": 8,
   "id": "d00e1a34",
   "metadata": {},
   "outputs": [],
   "source": [
    "# Specification limits\n",
    "minus2SD = av - 2 * desvest\n",
    "minus3SD = av - 3 * desvest\n",
    "plus2SD = av + 2 * desvest\n",
    "plus3SD = av + 3 * desvest"
   ]
  },
  {
   "cell_type": "code",
   "execution_count": 9,
   "id": "d0217f1e",
   "metadata": {},
   "outputs": [
    {
     "data": {
      "text/plain": [
       "0.23260999999999998"
      ]
     },
     "execution_count": 9,
     "metadata": {},
     "output_type": "execute_result"
    }
   ],
   "source": [
    "# Checking\n",
    "minus3SD"
   ]
  },
  {
   "cell_type": "code",
   "execution_count": 10,
   "id": "d7431c44",
   "metadata": {},
   "outputs": [
    {
     "data": {
      "image/png": "[encoded data removed]",
      "text/plain": [
       "<Figure size 640x480 with 1 Axes>"
      ]
     },
     "metadata": {},
     "output_type": "display_data"
    }
   ],
   "source": [
    "# Shewhart plot\n",
    "fig,ax = plt.subplots()\n",
    "\n",
    "ax.set_title(\"Accuiracy for {} in laboratory {}\".format(analyte,lab))\n",
    "\n",
    "# Samples result lineplot \n",
    "ax.plot(y, color='grey', linewidth=1)\n",
    "\n",
    "# lineplot edgecolors for warnings and errors\n",
    "for i in range(1,len(y)):\n",
    "    if y[i] < minus3SD or y[i] > plus3SD:\n",
    "        ax.scatter(x[i-1],y[i], edgecolors='red', color='white')\n",
    "    elif y[i] < minus2SD or y[i] > plus2SD:\n",
    "        ax.scatter(x[i-1],y[i], edgecolors='orange', color='white')    \n",
    "    else:\n",
    "        ax.scatter(x[i-1],y[i], color='white')       \n",
    "    \n",
    "# Control lines    \n",
    "ax.hlines(y=av, xmin=0, xmax=len(df), linewidth=1, color='black', linestyles='-', label='Best Value')\n",
    "ax.hlines(y=minus2SD, xmin=0, xmax=len(df), linewidth=2, color='orange', linestyles=':', label='±2 σ')\n",
    "ax.hlines(y=plus2SD, xmin=0, xmax=len(df), linewidth=2, color='orange', linestyles=':')\n",
    "ax.hlines(y=minus3SD, xmin=0, xmax=len(df), linewidth=2, color='red', linestyles='--', label='±3 σ')\n",
    "ax.hlines(y=plus3SD, xmin=0, xmax=len(df), linewidth=2, color='red', linestyles='--')\n",
    "plt.legend()\n",
    "\n",
    "# Edit Y axis range (grade) and tick marks\n",
    "plt.ylim([0.15,0.45])\n",
    "plt.yticks(np.arange(0.15,0.45,0.05))\n",
    "\n",
    "# Grid plot\n",
    "plt.grid()\n",
    "\n",
    "# Axis titles\n",
    "plt.xlabel('Inserto')\n",
    "plt.ylabel(analyte);"
   ]
  },
  {
   "cell_type": "markdown",
   "id": "cba6a973",
   "metadata": {},
   "source": [
    "**Comments:**\n",
    "- Add            "
   ]
  },
  {
   "cell_type": "markdown",
   "id": "12071eb6",
   "metadata": {},
   "source": [
    "# Bias"
   ]
  },
  {
   "cell_type": "code",
   "execution_count": 11,
   "id": "6ecaf36f",
   "metadata": {},
   "outputs": [
    {
     "data": {
      "text/plain": [
       "0.278"
      ]
     },
     "execution_count": 11,
     "metadata": {},
     "output_type": "execute_result"
    }
   ],
   "source": [
    "# Average result for CRM analysis \n",
    "means = df['Au'].mean()\n",
    "means.round(3)"
   ]
  },
  {
   "cell_type": "code",
   "execution_count": 12,
   "id": "b7466312",
   "metadata": {},
   "outputs": [],
   "source": [
    "# Bias\n",
    "bias = (means - av) / av * 100"
   ]
  },
  {
   "cell_type": "code",
   "execution_count": 13,
   "id": "79bac7fd",
   "metadata": {},
   "outputs": [
    {
     "name": "stdout",
     "output_type": "stream",
     "text": [
      "Au bias for MSD-ALTO_AAA in laboratory Bureau Veritas Antofagasta, Chile is -7.08\n"
     ]
    }
   ],
   "source": [
    "print(\"{} bias for {} in laboratory {} is {:.2f}\".format(analyte,crm,lab,bias))"
   ]
  },
  {
   "cell_type": "markdown",
   "id": "b5fb215f",
   "metadata": {},
   "source": [
    "**Conclusion:**\n",
    "- Add."
   ]
  }
 ],
 "metadata": {
  "kernelspec": {
   "display_name": "Python 3 (ipykernel)",
   "language": "python",
   "name": "python3"
  },
  "language_info": {
   "codemirror_mode": {
    "name": "ipython",
    "version": 3
   },
   "file_extension": ".py",
   "mimetype": "text/x-python",
   "name": "python",
   "nbconvert_exporter": "python",
   "pygments_lexer": "ipython3",
   "version": "3.11.1"
  },
  "toc": {
   "base_numbering": 1,
   "nav_menu": {},
   "number_sections": true,
   "sideBar": true,
   "skip_h1_title": false,
   "title_cell": "Table of Contents",
   "title_sidebar": "Contents",
   "toc_cell": false,
   "toc_position": {},
   "toc_section_display": true,
   "toc_window_display": false
  }
 },
 "nbformat": 4,
 "nbformat_minor": 5
}
