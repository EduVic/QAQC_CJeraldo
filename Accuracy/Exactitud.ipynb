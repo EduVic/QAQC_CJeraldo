{
 "cells": [
  {
   "cell_type": "markdown",
   "id": "ee5fe4fa",
   "metadata": {},
   "source": [
    "# Descripción del proyecto\n",
    "\n",
    "**Autor:** Cristian Jeraldo, www.asgeominspa.com\n",
    "\n",
    "**Fecha:** 13 de junio de 2024\n",
    "\n",
    "**Descripción:** Este notebook contiene los pasos necesarios para desarrollar un análisis de exactitud analítica, incluyendo la visualización de resultados y la aplicación de técnicas estadísticas de medición.\n",
    "\n",
    "---"
   ]
  },
  {
   "cell_type": "markdown",
   "id": "e9b1023f",
   "metadata": {},
   "source": [
    "# Importación de librerías"
   ]
  },
  {
   "cell_type": "code",
   "execution_count": 1,
   "id": "35e2423d",
   "metadata": {},
   "outputs": [
    {
     "name": "stderr",
     "output_type": "stream",
     "text": [
      "C:\\Users\\Asus\\AppData\\Local\\Programs\\Python\\Python311\\Lib\\site-packages\\scipy\\__init__.py:169: UserWarning: A NumPy version >=1.18.5 and <1.26.0 is required for this version of SciPy (detected version 1.26.4\n",
      "  warnings.warn(f\"A NumPy version >={np_minversion} and <{np_maxversion}\"\n"
     ]
    }
   ],
   "source": [
    "# Librerías visualización\n",
    "import matplotlib.pyplot as plt\n",
    "import seaborn as sns\n",
    "\n",
    "# Librerías manipulación de datos\n",
    "import numpy as np\n",
    "import pandas as pd"
   ]
  },
  {
   "cell_type": "markdown",
   "id": "201a928a",
   "metadata": {},
   "source": [
    "# Importación de datos"
   ]
  },
  {
   "cell_type": "code",
   "execution_count": 2,
   "id": "58ce47f9",
   "metadata": {},
   "outputs": [],
   "source": [
    "# Importación de datos\n",
    "df = pd.read_csv('MSD-ALTO_AAA_Cu_Fe_Au_Co_S.csv')"
   ]
  },
  {
   "cell_type": "code",
   "execution_count": 3,
   "id": "b75cbcf7",
   "metadata": {},
   "outputs": [
    {
     "data": {
      "text/html": [
       "<div>\n",
       "<style scoped>\n",
       "    .dataframe tbody tr th:only-of-type {\n",
       "        vertical-align: middle;\n",
       "    }\n",
       "\n",
       "    .dataframe tbody tr th {\n",
       "        vertical-align: top;\n",
       "    }\n",
       "\n",
       "    .dataframe thead th {\n",
       "        text-align: right;\n",
       "    }\n",
       "</style>\n",
       "<table border=\"1\" class=\"dataframe\">\n",
       "  <thead>\n",
       "    <tr style=\"text-align: right;\">\n",
       "      <th></th>\n",
       "      <th>SAMPLE_ID</th>\n",
       "      <th>Inserto</th>\n",
       "      <th>Cu</th>\n",
       "      <th>Fe</th>\n",
       "      <th>Au</th>\n",
       "      <th>Co</th>\n",
       "      <th>S</th>\n",
       "      <th>Origen</th>\n",
       "    </tr>\n",
       "  </thead>\n",
       "  <tbody>\n",
       "    <tr>\n",
       "      <th>0</th>\n",
       "      <td>STD HIGH 1</td>\n",
       "      <td>1</td>\n",
       "      <td>1.662</td>\n",
       "      <td>50.31</td>\n",
       "      <td>0.295</td>\n",
       "      <td>370</td>\n",
       "      <td>1.78</td>\n",
       "      <td>P2022-111 Análisis Estandares MSDv3.xlsx</td>\n",
       "    </tr>\n",
       "    <tr>\n",
       "      <th>1</th>\n",
       "      <td>STD HIGH 2</td>\n",
       "      <td>2</td>\n",
       "      <td>1.682</td>\n",
       "      <td>49.97</td>\n",
       "      <td>0.271</td>\n",
       "      <td>360</td>\n",
       "      <td>1.78</td>\n",
       "      <td>P2022-111 Análisis Estandares MSDv3.xlsx</td>\n",
       "    </tr>\n",
       "    <tr>\n",
       "      <th>2</th>\n",
       "      <td>STD HIGH 3</td>\n",
       "      <td>3</td>\n",
       "      <td>1.665</td>\n",
       "      <td>48.97</td>\n",
       "      <td>0.346</td>\n",
       "      <td>370</td>\n",
       "      <td>1.79</td>\n",
       "      <td>P2022-111 Análisis Estandares MSDv3.xlsx</td>\n",
       "    </tr>\n",
       "  </tbody>\n",
       "</table>\n",
       "</div>"
      ],
      "text/plain": [
       "    SAMPLE_ID  Inserto     Cu     Fe     Au   Co     S  \\\n",
       "0  STD HIGH 1        1  1.662  50.31  0.295  370  1.78   \n",
       "1  STD HIGH 2        2  1.682  49.97  0.271  360  1.78   \n",
       "2  STD HIGH 3        3  1.665  48.97  0.346  370  1.79   \n",
       "\n",
       "                                     Origen  \n",
       "0  P2022-111 Análisis Estandares MSDv3.xlsx  \n",
       "1  P2022-111 Análisis Estandares MSDv3.xlsx  \n",
       "2  P2022-111 Análisis Estandares MSDv3.xlsx  "
      ]
     },
     "execution_count": 3,
     "metadata": {},
     "output_type": "execute_result"
    }
   ],
   "source": [
    "df.head(3)"
   ]
  },
  {
   "cell_type": "code",
   "execution_count": 4,
   "id": "b0d16fc3",
   "metadata": {},
   "outputs": [
    {
     "data": {
      "text/plain": [
       "(30, 8)"
      ]
     },
     "execution_count": 4,
     "metadata": {},
     "output_type": "execute_result"
    }
   ],
   "source": [
    "df.shape"
   ]
  },
  {
   "cell_type": "markdown",
   "id": "dfcb7498",
   "metadata": {},
   "source": [
    "# Gráfico de Exactitud"
   ]
  },
  {
   "cell_type": "code",
   "execution_count": 5,
   "id": "b363af40",
   "metadata": {},
   "outputs": [],
   "source": [
    "# Ejes para gráfico de control de exactitud\n",
    "x = df['Inserto']\n",
    "y = df['Au']"
   ]
  },
  {
   "cell_type": "code",
   "execution_count": 6,
   "id": "c658eed2",
   "metadata": {},
   "outputs": [],
   "source": [
    "# Editar analito y laboratorio \n",
    "analito = 'Au'\n",
    "lab = 'Bureau Veritas Antofagasta, Chile'"
   ]
  },
  {
   "cell_type": "code",
   "execution_count": 7,
   "id": "595d5eba",
   "metadata": {},
   "outputs": [],
   "source": [
    "# Media y desviación estándar del CRM\n",
    "av = 0.299\n",
    "desvest = 0.02213"
   ]
  },
  {
   "cell_type": "code",
   "execution_count": 8,
   "id": "d00e1a34",
   "metadata": {},
   "outputs": [],
   "source": [
    "# Bandas de aceptación\n",
    "minus2SD = av - 2 * desvest\n",
    "minus3SD = av - 3 * desvest\n",
    "plus2SD = av + 2 * desvest\n",
    "plus3SD = av + 3 * desvest"
   ]
  },
  {
   "cell_type": "code",
   "execution_count": 9,
   "id": "d0217f1e",
   "metadata": {},
   "outputs": [
    {
     "data": {
      "text/plain": [
       "0.23260999999999998"
      ]
     },
     "execution_count": 9,
     "metadata": {},
     "output_type": "execute_result"
    }
   ],
   "source": [
    "# Chequeo\n",
    "minus3SD"
   ]
  },
  {
   "cell_type": "code",
   "execution_count": 19,
   "id": "d7431c44",
   "metadata": {},
   "outputs": [
    {
     "data": {
      "image/png": "[encoded data removed]",
      "text/plain": [
       "<Figure size 640x480 with 1 Axes>"
      ]
     },
     "metadata": {},
     "output_type": "display_data"
    }
   ],
   "source": [
    "# Gráfico de control de Shewhart\n",
    "fig,ax = plt.subplots()\n",
    "\n",
    "ax.set_title(\"Evolución exactitud analítica de {} laboratorio {}\".format(analito,lab))\n",
    "\n",
    "# lineplot de insertos \n",
    "ax.plot(y, color='grey', linewidth=1)\n",
    "\n",
    "# lineplot edgecolors para warnings y error\n",
    "for i in range(1,len(y)):\n",
    "    if y[i] < minus3SD or y[i] > plus3SD:\n",
    "        ax.scatter(x[i-1],y[i], edgecolors='red', color='white')\n",
    "    elif y[i] < minus2SD or y[i] > plus2SD:\n",
    "        ax.scatter(x[i-1],y[i], edgecolors='orange', color='white')    \n",
    "    else:\n",
    "        ax.scatter(x[i-1],y[i], color='white')       \n",
    "    \n",
    "# Líneas de control    \n",
    "ax.hlines(y=av, xmin=0, xmax=len(df), linewidth=1, color='black', linestyles='-', label='Best Value')\n",
    "ax.hlines(y=minus2SD, xmin=0, xmax=len(df), linewidth=2, color='orange', linestyles=':', label='±2 σ')\n",
    "ax.hlines(y=plus2SD, xmin=0, xmax=len(df), linewidth=2, color='orange', linestyles=':')\n",
    "ax.hlines(y=minus3SD, xmin=0, xmax=len(df), linewidth=2, color='red', linestyles='--', label='±3 σ')\n",
    "ax.hlines(y=plus3SD, xmin=0, xmax=len(df), linewidth=2, color='red', linestyles='--')\n",
    "plt.legend()\n",
    "\n",
    "# Editar rango eje Y (ley) y frecuencia de tick marks\n",
    "plt.ylim([0.15,0.45])\n",
    "plt.yticks(np.arange(0.15,0.45,0.05))\n",
    "\n",
    "# Ploteo de grilla\n",
    "plt.grid()\n",
    "\n",
    "# Títulos de ejes\n",
    "plt.xlabel('Inserto')\n",
    "plt.ylabel(analito);"
   ]
  },
  {
   "cell_type": "markdown",
   "id": "cba6a973",
   "metadata": {},
   "source": [
    "**Comentarios:**\n",
    "- Se identifican resultados con fallas: sesgo significativo (subestimación) para algunos batch \n",
    "- Sin exceso de puntos consecutivos en mismo por sobre o debajo de valor esperado: ausencia de sesgo moderado\n",
    "- Presencia de algunos puntos consecutivos sobre 2 STD: sesgo moderado            "
   ]
  },
  {
   "cell_type": "markdown",
   "id": "12071eb6",
   "metadata": {},
   "source": [
    "# Cálculo de sesgo"
   ]
  },
  {
   "cell_type": "code",
   "execution_count": 11,
   "id": "6ecaf36f",
   "metadata": {},
   "outputs": [
    {
     "data": {
      "text/plain": [
       "0.278"
      ]
     },
     "execution_count": 11,
     "metadata": {},
     "output_type": "execute_result"
    }
   ],
   "source": [
    "# Valor medio análisis de CRM\n",
    "prom = df['Au'].mean()\n",
    "prom.round(3)"
   ]
  },
  {
   "cell_type": "code",
   "execution_count": 12,
   "id": "b7466312",
   "metadata": {},
   "outputs": [],
   "source": [
    "# Cálculo de sesgo\n",
    "sesgo = (prom - av) / av * 100"
   ]
  },
  {
   "cell_type": "code",
   "execution_count": 13,
   "id": "79bac7fd",
   "metadata": {},
   "outputs": [
    {
     "name": "stdout",
     "output_type": "stream",
     "text": [
      "Sesgo de Au para CRM ALTO en laboratorio Bureau Veritas Antofagasta, Chile es -7.08\n"
     ]
    }
   ],
   "source": [
    "print(\"Sesgo de {} para CRM ALTO en laboratorio {} es {:.2f}\".format(analito,lab,sesgo))"
   ]
  },
  {
   "cell_type": "markdown",
   "id": "b5fb215f",
   "metadata": {},
   "source": [
    "**Conclusión:**\n",
    "- Sin evidencia de sesgo significativo a nivel global (todas las campañas)."
   ]
  }
 ],
 "metadata": {
  "kernelspec": {
   "display_name": "Python 3 (ipykernel)",
   "language": "python",
   "name": "python3"
  },
  "language_info": {
   "codemirror_mode": {
    "name": "ipython",
    "version": 3
   },
   "file_extension": ".py",
   "mimetype": "text/x-python",
   "name": "python",
   "nbconvert_exporter": "python",
   "pygments_lexer": "ipython3",
   "version": "3.11.1"
  },
  "toc": {
   "base_numbering": 1,
   "nav_menu": {},
   "number_sections": true,
   "sideBar": true,
   "skip_h1_title": false,
   "title_cell": "Table of Contents",
   "title_sidebar": "Contents",
   "toc_cell": false,
   "toc_position": {},
   "toc_section_display": true,
   "toc_window_display": false
  }
 },
 "nbformat": 4,
 "nbformat_minor": 5
}
